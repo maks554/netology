{
 "cells": [
  {
   "cell_type": "code",
   "execution_count": 2,
   "metadata": {},
   "outputs": [],
   "source": [
    "import numpy as np\n",
    "import pandas as pd\n",
    "import seaborn as sns\n",
    "\n",
    "from sklearn.linear_model import LinearRegression\n",
    "from sklearn.metrics import mean_squared_error"
   ]
  },
  {
   "cell_type": "markdown",
   "metadata": {},
   "source": [
    "Создадим искусственный датасет с коррелирующими переменными"
   ]
  },
  {
   "cell_type": "code",
   "execution_count": 11,
   "metadata": {},
   "outputs": [
    {
     "data": {
      "text/html": [
       "<div>\n",
       "<style scoped>\n",
       "    .dataframe tbody tr th:only-of-type {\n",
       "        vertical-align: middle;\n",
       "    }\n",
       "\n",
       "    .dataframe tbody tr th {\n",
       "        vertical-align: top;\n",
       "    }\n",
       "\n",
       "    .dataframe thead th {\n",
       "        text-align: right;\n",
       "    }\n",
       "</style>\n",
       "<table border=\"1\" class=\"dataframe\">\n",
       "  <thead>\n",
       "    <tr style=\"text-align: right;\">\n",
       "      <th></th>\n",
       "      <th>length</th>\n",
       "      <th>proj_length</th>\n",
       "      <th>width</th>\n",
       "      <th>amount</th>\n",
       "      <th>y</th>\n",
       "    </tr>\n",
       "  </thead>\n",
       "  <tbody>\n",
       "    <tr>\n",
       "      <th>0</th>\n",
       "      <td>84</td>\n",
       "      <td>168.768111</td>\n",
       "      <td>1</td>\n",
       "      <td>0</td>\n",
       "      <td>227</td>\n",
       "    </tr>\n",
       "    <tr>\n",
       "      <th>1</th>\n",
       "      <td>41</td>\n",
       "      <td>82.720380</td>\n",
       "      <td>32</td>\n",
       "      <td>1</td>\n",
       "      <td>275</td>\n",
       "    </tr>\n",
       "    <tr>\n",
       "      <th>2</th>\n",
       "      <td>51</td>\n",
       "      <td>102.819249</td>\n",
       "      <td>4</td>\n",
       "      <td>8</td>\n",
       "      <td>253</td>\n",
       "    </tr>\n",
       "    <tr>\n",
       "      <th>3</th>\n",
       "      <td>51</td>\n",
       "      <td>102.928612</td>\n",
       "      <td>47</td>\n",
       "      <td>3</td>\n",
       "      <td>375</td>\n",
       "    </tr>\n",
       "    <tr>\n",
       "      <th>4</th>\n",
       "      <td>33</td>\n",
       "      <td>66.199032</td>\n",
       "      <td>29</td>\n",
       "      <td>6</td>\n",
       "      <td>297</td>\n",
       "    </tr>\n",
       "  </tbody>\n",
       "</table>\n",
       "</div>"
      ],
      "text/plain": [
       "   length  proj_length  width  amount    y\n",
       "0      84   168.768111      1       0  227\n",
       "1      41    82.720380     32       1  275\n",
       "2      51   102.819249      4       8  253\n",
       "3      51   102.928612     47       3  375\n",
       "4      33    66.199032     29       6  297"
      ]
     },
     "execution_count": 11,
     "metadata": {},
     "output_type": "execute_result"
    }
   ],
   "source": [
    "n_samples = 1000\n",
    "\n",
    "length = np.random.choice(100, n_samples)\n",
    "proj_length = length*2 + np.random.random(n_samples)\n",
    "width = np.random.choice(50, n_samples)\n",
    "amount = np.random.choice(10, n_samples)\n",
    "\n",
    "y = 2*length + 4*width + 10*amount + 55\n",
    "\n",
    "data = pd.DataFrame({'length': length,\n",
    "                    'proj_length': proj_length,\n",
    "                    'width': width,\n",
    "                    'amount': amount,\n",
    "                    'y': y})\n",
    "\n",
    "data.head()"
   ]
  },
  {
   "cell_type": "markdown",
   "metadata": {},
   "source": [
    "# Эксперимент №1"
   ]
  },
  {
   "cell_type": "markdown",
   "metadata": {},
   "source": [
    "Увидим корреляцию на графике"
   ]
  },
  {
   "cell_type": "code",
   "execution_count": 14,
   "metadata": {},
   "outputs": [
    {
     "data": {
      "text/plain": [
       "<AxesSubplot:>"
      ]
     },
     "execution_count": 14,
     "metadata": {},
     "output_type": "execute_result"
    },
    {
     "data": {
      "image/png": "[encoded data removed]",
      "text/plain": [
       "<Figure size 432x288 with 2 Axes>"
      ]
     },
     "metadata": {
      "needs_background": "light"
     },
     "output_type": "display_data"
    }
   ],
   "source": [
    "sns.heatmap(data.corr(), cmap='Blues')"
   ]
  },
  {
   "cell_type": "markdown",
   "metadata": {},
   "source": [
    "Обучим модель на всех столбцах"
   ]
  },
  {
   "cell_type": "code",
   "execution_count": 16,
   "metadata": {},
   "outputs": [
    {
     "name": "stdout",
     "output_type": "stream",
     "text": [
      "Coef:  [2.00000000e+00 1.73888681e-14 4.00000000e+00 1.00000000e+01]\n",
      "Intercept:  54.99999999999994\n",
      "Loss:  8.220107337245713e-27\n"
     ]
    }
   ],
   "source": [
    "model = LinearRegression()\n",
    "\n",
    "X = data.drop(columns='y')\n",
    "y = data.y\n",
    "\n",
    "model.fit(X, y)\n",
    "\n",
    "print('Coef: ', model.coef_)\n",
    "print('Intercept: ', model.intercept_)\n",
    "print('Loss: ', mean_squared_error(y, model.predict(X)))"
   ]
  },
  {
   "cell_type": "markdown",
   "metadata": {},
   "source": [
    "Коэффициент одного из коррелирующих столбцов почти равен 0"
   ]
  },
  {
   "cell_type": "markdown",
   "metadata": {},
   "source": [
    "Обучим модель без коррелирующего столбца"
   ]
  },
  {
   "cell_type": "code",
   "execution_count": 17,
   "metadata": {},
   "outputs": [
    {
     "name": "stdout",
     "output_type": "stream",
     "text": [
      "Coef:  [ 2.  4. 10.]\n",
      "Intercept:  55.00000000000006\n",
      "Loss:  1.280756700393384e-27\n"
     ]
    }
   ],
   "source": [
    "model = LinearRegression()\n",
    "\n",
    "X = data.drop(columns=['y', 'proj_length'])\n",
    "y = data.y\n",
    "\n",
    "model.fit(X, y)\n",
    "\n",
    "print('Coef: ', model.coef_)\n",
    "print('Intercept: ', model.intercept_)\n",
    "print('Loss: ', mean_squared_error(y, model.predict(X)))"
   ]
  },
  {
   "cell_type": "markdown",
   "metadata": {},
   "source": [
    "## Вывод\n",
    "\n",
    "Коэффициенты нашлись правильно в обоих случаях, ошибка уменьшилась незначительно, следовательно, коррелирующие столбцы незначительно влияют при обучении"
   ]
  },
  {
   "cell_type": "markdown",
   "metadata": {},
   "source": [
    "# Эксперимент №2"
   ]
  },
  {
   "cell_type": "code",
   "execution_count": 20,
   "metadata": {},
   "outputs": [],
   "source": [
    "data.drop(columns='proj_length', inplace = True)"
   ]
  },
  {
   "cell_type": "markdown",
   "metadata": {},
   "source": [
    "Создадим новый столбец square и поменяем уравнение модели"
   ]
  },
  {
   "cell_type": "code",
   "execution_count": 21,
   "metadata": {},
   "outputs": [
    {
     "data": {
      "text/html": [
       "<div>\n",
       "<style scoped>\n",
       "    .dataframe tbody tr th:only-of-type {\n",
       "        vertical-align: middle;\n",
       "    }\n",
       "\n",
       "    .dataframe tbody tr th {\n",
       "        vertical-align: top;\n",
       "    }\n",
       "\n",
       "    .dataframe thead th {\n",
       "        text-align: right;\n",
       "    }\n",
       "</style>\n",
       "<table border=\"1\" class=\"dataframe\">\n",
       "  <thead>\n",
       "    <tr style=\"text-align: right;\">\n",
       "      <th></th>\n",
       "      <th>length</th>\n",
       "      <th>width</th>\n",
       "      <th>amount</th>\n",
       "      <th>y</th>\n",
       "      <th>square</th>\n",
       "    </tr>\n",
       "  </thead>\n",
       "  <tbody>\n",
       "    <tr>\n",
       "      <th>0</th>\n",
       "      <td>84</td>\n",
       "      <td>1</td>\n",
       "      <td>0</td>\n",
       "      <td>610</td>\n",
       "      <td>84</td>\n",
       "    </tr>\n",
       "    <tr>\n",
       "      <th>1</th>\n",
       "      <td>41</td>\n",
       "      <td>32</td>\n",
       "      <td>1</td>\n",
       "      <td>9221</td>\n",
       "      <td>1312</td>\n",
       "    </tr>\n",
       "    <tr>\n",
       "      <th>2</th>\n",
       "      <td>51</td>\n",
       "      <td>4</td>\n",
       "      <td>8</td>\n",
       "      <td>1570</td>\n",
       "      <td>204</td>\n",
       "    </tr>\n",
       "    <tr>\n",
       "      <th>3</th>\n",
       "      <td>51</td>\n",
       "      <td>47</td>\n",
       "      <td>3</td>\n",
       "      <td>16846</td>\n",
       "      <td>2397</td>\n",
       "    </tr>\n",
       "    <tr>\n",
       "      <th>4</th>\n",
       "      <td>33</td>\n",
       "      <td>29</td>\n",
       "      <td>6</td>\n",
       "      <td>6811</td>\n",
       "      <td>957</td>\n",
       "    </tr>\n",
       "  </tbody>\n",
       "</table>\n",
       "</div>"
      ],
      "text/plain": [
       "   length  width  amount      y  square\n",
       "0      84      1       0    610      84\n",
       "1      41     32       1   9221    1312\n",
       "2      51      4       8   1570     204\n",
       "3      51     47       3  16846    2397\n",
       "4      33     29       6   6811     957"
      ]
     },
     "execution_count": 21,
     "metadata": {},
     "output_type": "execute_result"
    }
   ],
   "source": [
    "data['square'] = data.length*data.width\n",
    "\n",
    "data.y = 7*data['square'] + 15*data['amount'] + 22\n",
    "\n",
    "data.head()"
   ]
  },
  {
   "cell_type": "markdown",
   "metadata": {},
   "source": [
    "Обучим модель без столбца square"
   ]
  },
  {
   "cell_type": "code",
   "execution_count": 22,
   "metadata": {},
   "outputs": [
    {
     "name": "stdout",
     "output_type": "stream",
     "text": [
      "Coef:  [173.4296095  354.79324354   2.76255713]\n",
      "Intercept:  -8817.090263324628\n",
      "Loss:  7692208.787559667\n"
     ]
    }
   ],
   "source": [
    "model = LinearRegression()\n",
    "\n",
    "X = data.drop(columns=['y', 'square'])\n",
    "y = data.y\n",
    "\n",
    "model.fit(X, y)\n",
    "\n",
    "print('Coef: ', model.coef_)\n",
    "print('Intercept: ', model.intercept_)\n",
    "print('Loss: ', mean_squared_error(y, model.predict(X)))"
   ]
  },
  {
   "cell_type": "markdown",
   "metadata": {},
   "source": [
    "Ошибка очень большая, как видим, без столбца square не получится предсказать целевую переменную\n",
    "\n",
    "Добавим этот столбец"
   ]
  },
  {
   "cell_type": "code",
   "execution_count": 23,
   "metadata": {},
   "outputs": [
    {
     "name": "stdout",
     "output_type": "stream",
     "text": [
      "Coef:  [-7.19871375e-14  2.13162821e-14  1.50000000e+01  7.00000000e+00]\n",
      "Intercept:  21.999999999996362\n",
      "Loss:  2.4740439078681068e-23\n"
     ]
    }
   ],
   "source": [
    "model = LinearRegression()\n",
    "\n",
    "X = data.drop(columns=['y'])\n",
    "y = data.y\n",
    "\n",
    "model.fit(X, y)\n",
    "\n",
    "print('Coef: ', model.coef_)\n",
    "print('Intercept: ', model.intercept_)\n",
    "print('Loss: ', mean_squared_error(y, model.predict(X)))"
   ]
  },
  {
   "cell_type": "markdown",
   "metadata": {},
   "source": [
    "Коэффициенты получились правильными, уберем лишние столбцы"
   ]
  },
  {
   "cell_type": "code",
   "execution_count": 24,
   "metadata": {},
   "outputs": [
    {
     "name": "stdout",
     "output_type": "stream",
     "text": [
      "Coef:  [15.  7.]\n",
      "Intercept:  21.99999999999818\n",
      "Loss:  1.3442691666719506e-24\n"
     ]
    }
   ],
   "source": [
    "model = LinearRegression()\n",
    "\n",
    "X = data.drop(columns=['y', \"length\", \"width\"])\n",
    "y = data.y\n",
    "\n",
    "model.fit(X, y)\n",
    "\n",
    "print('Coef: ', model.coef_)\n",
    "print('Intercept: ', model.intercept_)\n",
    "print('Loss: ', mean_squared_error(y, model.predict(X)))"
   ]
  },
  {
   "cell_type": "markdown",
   "metadata": {},
   "source": [
    "## Вывод\n",
    "\n",
    "Ошибка уменьшилась, как только мы убрали лишние столбцы, коэффициенты получились правильными"
   ]
  },
  {
   "cell_type": "markdown",
   "metadata": {},
   "source": [
    "# Эксперимент №3"
   ]
  },
  {
   "cell_type": "markdown",
   "metadata": {},
   "source": [
    "Поработаем с пропусками в данных\n",
    "\n",
    "Рандомно выберем 100 примеров и обнулим значения столбца length"
   ]
  },
  {
   "cell_type": "code",
   "execution_count": 41,
   "metadata": {},
   "outputs": [
    {
     "data": {
      "text/html": [
       "<div>\n",
       "<style scoped>\n",
       "    .dataframe tbody tr th:only-of-type {\n",
       "        vertical-align: middle;\n",
       "    }\n",
       "\n",
       "    .dataframe tbody tr th {\n",
       "        vertical-align: top;\n",
       "    }\n",
       "\n",
       "    .dataframe thead th {\n",
       "        text-align: right;\n",
       "    }\n",
       "</style>\n",
       "<table border=\"1\" class=\"dataframe\">\n",
       "  <thead>\n",
       "    <tr style=\"text-align: right;\">\n",
       "      <th></th>\n",
       "      <th>length</th>\n",
       "      <th>width</th>\n",
       "      <th>amount</th>\n",
       "      <th>y</th>\n",
       "    </tr>\n",
       "  </thead>\n",
       "  <tbody>\n",
       "    <tr>\n",
       "      <th>0</th>\n",
       "      <td>1066</td>\n",
       "      <td>2</td>\n",
       "      <td>4</td>\n",
       "      <td>2235</td>\n",
       "    </tr>\n",
       "    <tr>\n",
       "      <th>1</th>\n",
       "      <td>564</td>\n",
       "      <td>49</td>\n",
       "      <td>7</td>\n",
       "      <td>1449</td>\n",
       "    </tr>\n",
       "    <tr>\n",
       "      <th>2</th>\n",
       "      <td>746</td>\n",
       "      <td>30</td>\n",
       "      <td>4</td>\n",
       "      <td>1707</td>\n",
       "    </tr>\n",
       "    <tr>\n",
       "      <th>3</th>\n",
       "      <td>856</td>\n",
       "      <td>31</td>\n",
       "      <td>9</td>\n",
       "      <td>1981</td>\n",
       "    </tr>\n",
       "    <tr>\n",
       "      <th>4</th>\n",
       "      <td>579</td>\n",
       "      <td>7</td>\n",
       "      <td>3</td>\n",
       "      <td>1271</td>\n",
       "    </tr>\n",
       "  </tbody>\n",
       "</table>\n",
       "</div>"
      ],
      "text/plain": [
       "   length  width  amount     y\n",
       "0    1066      2       4  2235\n",
       "1     564     49       7  1449\n",
       "2     746     30       4  1707\n",
       "3     856     31       9  1981\n",
       "4     579      7       3  1271"
      ]
     },
     "execution_count": 41,
     "metadata": {},
     "output_type": "execute_result"
    }
   ],
   "source": [
    "n_samples = 1000\n",
    "\n",
    "length = np.random.choice(1000, n_samples) + 100\n",
    "width = np.random.choice(50, n_samples)\n",
    "amount = np.random.choice(10, n_samples)\n",
    "\n",
    "y = 2*length + 4*width + 10*amount + 55\n",
    "\n",
    "data = pd.DataFrame({'length': length,\n",
    "                    'width': width,\n",
    "                    'amount': amount,\n",
    "                    'y': y})\n",
    "\n",
    "data.head()"
   ]
  },
  {
   "cell_type": "code",
   "execution_count": 42,
   "metadata": {},
   "outputs": [
    {
     "data": {
      "text/html": [
       "<div>\n",
       "<style scoped>\n",
       "    .dataframe tbody tr th:only-of-type {\n",
       "        vertical-align: middle;\n",
       "    }\n",
       "\n",
       "    .dataframe tbody tr th {\n",
       "        vertical-align: top;\n",
       "    }\n",
       "\n",
       "    .dataframe thead th {\n",
       "        text-align: right;\n",
       "    }\n",
       "</style>\n",
       "<table border=\"1\" class=\"dataframe\">\n",
       "  <thead>\n",
       "    <tr style=\"text-align: right;\">\n",
       "      <th></th>\n",
       "      <th>length</th>\n",
       "      <th>width</th>\n",
       "      <th>amount</th>\n",
       "      <th>y</th>\n",
       "    </tr>\n",
       "  </thead>\n",
       "  <tbody>\n",
       "    <tr>\n",
       "      <th>0</th>\n",
       "      <td>0</td>\n",
       "      <td>2</td>\n",
       "      <td>4</td>\n",
       "      <td>2235</td>\n",
       "    </tr>\n",
       "    <tr>\n",
       "      <th>1</th>\n",
       "      <td>564</td>\n",
       "      <td>49</td>\n",
       "      <td>7</td>\n",
       "      <td>1449</td>\n",
       "    </tr>\n",
       "    <tr>\n",
       "      <th>2</th>\n",
       "      <td>746</td>\n",
       "      <td>30</td>\n",
       "      <td>4</td>\n",
       "      <td>1707</td>\n",
       "    </tr>\n",
       "    <tr>\n",
       "      <th>3</th>\n",
       "      <td>856</td>\n",
       "      <td>31</td>\n",
       "      <td>9</td>\n",
       "      <td>1981</td>\n",
       "    </tr>\n",
       "    <tr>\n",
       "      <th>4</th>\n",
       "      <td>579</td>\n",
       "      <td>7</td>\n",
       "      <td>3</td>\n",
       "      <td>1271</td>\n",
       "    </tr>\n",
       "  </tbody>\n",
       "</table>\n",
       "</div>"
      ],
      "text/plain": [
       "   length  width  amount     y\n",
       "0       0      2       4  2235\n",
       "1     564     49       7  1449\n",
       "2     746     30       4  1707\n",
       "3     856     31       9  1981\n",
       "4     579      7       3  1271"
      ]
     },
     "execution_count": 42,
     "metadata": {},
     "output_type": "execute_result"
    }
   ],
   "source": [
    "null_index = np.random.choice(n_samples, 100)\n",
    "\n",
    "data.iloc[null_index, 0] = 0\n",
    "\n",
    "data.head()"
   ]
  },
  {
   "cell_type": "markdown",
   "metadata": {},
   "source": [
    "Обучим модель на этих данных"
   ]
  },
  {
   "cell_type": "code",
   "execution_count": 43,
   "metadata": {},
   "outputs": [
    {
     "name": "stdout",
     "output_type": "stream",
     "text": [
      "Coef:  [ 1.36297843  2.7253971  10.73001572]\n",
      "Intercept:  549.1381553400325\n",
      "Loss:  139424.1531501933\n"
     ]
    }
   ],
   "source": [
    "model = LinearRegression()\n",
    "\n",
    "X = data.drop(columns=['y'])\n",
    "y = data.y\n",
    "\n",
    "model.fit(X, y)\n",
    "\n",
    "print('Coef: ', model.coef_)\n",
    "print('Intercept: ', model.intercept_)\n",
    "print('Loss: ', mean_squared_error(y, model.predict(X)))"
   ]
  },
  {
   "cell_type": "markdown",
   "metadata": {},
   "source": [
    "Создадим столбец индикатор, в котором будет указано, было занулено значение в столбце lenght или нет\n",
    "\n",
    "Обучим модель с этим столбцом"
   ]
  },
  {
   "cell_type": "code",
   "execution_count": 44,
   "metadata": {},
   "outputs": [
    {
     "data": {
      "text/html": [
       "<div>\n",
       "<style scoped>\n",
       "    .dataframe tbody tr th:only-of-type {\n",
       "        vertical-align: middle;\n",
       "    }\n",
       "\n",
       "    .dataframe tbody tr th {\n",
       "        vertical-align: top;\n",
       "    }\n",
       "\n",
       "    .dataframe thead th {\n",
       "        text-align: right;\n",
       "    }\n",
       "</style>\n",
       "<table border=\"1\" class=\"dataframe\">\n",
       "  <thead>\n",
       "    <tr style=\"text-align: right;\">\n",
       "      <th></th>\n",
       "      <th>length</th>\n",
       "      <th>width</th>\n",
       "      <th>amount</th>\n",
       "      <th>y</th>\n",
       "      <th>ind</th>\n",
       "    </tr>\n",
       "  </thead>\n",
       "  <tbody>\n",
       "    <tr>\n",
       "      <th>0</th>\n",
       "      <td>0</td>\n",
       "      <td>2</td>\n",
       "      <td>4</td>\n",
       "      <td>2235</td>\n",
       "      <td>1</td>\n",
       "    </tr>\n",
       "    <tr>\n",
       "      <th>1</th>\n",
       "      <td>564</td>\n",
       "      <td>49</td>\n",
       "      <td>7</td>\n",
       "      <td>1449</td>\n",
       "      <td>0</td>\n",
       "    </tr>\n",
       "    <tr>\n",
       "      <th>2</th>\n",
       "      <td>746</td>\n",
       "      <td>30</td>\n",
       "      <td>4</td>\n",
       "      <td>1707</td>\n",
       "      <td>0</td>\n",
       "    </tr>\n",
       "    <tr>\n",
       "      <th>3</th>\n",
       "      <td>856</td>\n",
       "      <td>31</td>\n",
       "      <td>9</td>\n",
       "      <td>1981</td>\n",
       "      <td>0</td>\n",
       "    </tr>\n",
       "    <tr>\n",
       "      <th>4</th>\n",
       "      <td>579</td>\n",
       "      <td>7</td>\n",
       "      <td>3</td>\n",
       "      <td>1271</td>\n",
       "      <td>0</td>\n",
       "    </tr>\n",
       "  </tbody>\n",
       "</table>\n",
       "</div>"
      ],
      "text/plain": [
       "   length  width  amount     y  ind\n",
       "0       0      2       4  2235    1\n",
       "1     564     49       7  1449    0\n",
       "2     746     30       4  1707    0\n",
       "3     856     31       9  1981    0\n",
       "4     579      7       3  1271    0"
      ]
     },
     "execution_count": 44,
     "metadata": {},
     "output_type": "execute_result"
    }
   ],
   "source": [
    "data['ind'] = 0\n",
    "\n",
    "data.iloc[null_index, 4] = 1\n",
    "\n",
    "data.head()"
   ]
  },
  {
   "cell_type": "code",
   "execution_count": 45,
   "metadata": {},
   "outputs": [
    {
     "name": "stdout",
     "output_type": "stream",
     "text": [
      "Coef:  [   1.99926482    3.7737198    11.90879684 1323.93441114]\n",
      "Intercept:  52.028107867321296\n",
      "Loss:  31933.943735827124\n"
     ]
    }
   ],
   "source": [
    "model = LinearRegression()\n",
    "\n",
    "X = data.drop(columns=['y'])\n",
    "y = data.y\n",
    "\n",
    "model.fit(X, y)\n",
    "\n",
    "print('Coef: ', model.coef_)\n",
    "print('Intercept: ', model.intercept_)\n",
    "print('Loss: ', mean_squared_error(y, model.predict(X)))"
   ]
  },
  {
   "cell_type": "markdown",
   "metadata": {},
   "source": [
    "## Вывод\n",
    "\n",
    "Потери, полученные при обучении модели с индикатором получились меньше, соответсвенно можно сделать вывод о том, что данный столбец приносит пользу."
   ]
  },
  {
   "cell_type": "markdown",
   "metadata": {},
   "source": [
    "# Эксперимент №4"
   ]
  },
  {
   "cell_type": "markdown",
   "metadata": {},
   "source": [
    "Добавим новую переменную, которая будет зависеть от существующих"
   ]
  },
  {
   "cell_type": "code",
   "execution_count": 8,
   "metadata": {},
   "outputs": [
    {
     "data": {
      "text/html": [
       "<div>\n",
       "<style scoped>\n",
       "    .dataframe tbody tr th:only-of-type {\n",
       "        vertical-align: middle;\n",
       "    }\n",
       "\n",
       "    .dataframe tbody tr th {\n",
       "        vertical-align: top;\n",
       "    }\n",
       "\n",
       "    .dataframe thead th {\n",
       "        text-align: right;\n",
       "    }\n",
       "</style>\n",
       "<table border=\"1\" class=\"dataframe\">\n",
       "  <thead>\n",
       "    <tr style=\"text-align: right;\">\n",
       "      <th></th>\n",
       "      <th>length</th>\n",
       "      <th>width</th>\n",
       "      <th>new_var</th>\n",
       "      <th>y</th>\n",
       "    </tr>\n",
       "  </thead>\n",
       "  <tbody>\n",
       "    <tr>\n",
       "      <th>0</th>\n",
       "      <td>343</td>\n",
       "      <td>31</td>\n",
       "      <td>1467</td>\n",
       "      <td>5266</td>\n",
       "    </tr>\n",
       "    <tr>\n",
       "      <th>1</th>\n",
       "      <td>1071</td>\n",
       "      <td>10</td>\n",
       "      <td>4316</td>\n",
       "      <td>15185</td>\n",
       "    </tr>\n",
       "    <tr>\n",
       "      <th>2</th>\n",
       "      <td>197</td>\n",
       "      <td>19</td>\n",
       "      <td>847</td>\n",
       "      <td>3066</td>\n",
       "    </tr>\n",
       "    <tr>\n",
       "      <th>3</th>\n",
       "      <td>178</td>\n",
       "      <td>13</td>\n",
       "      <td>753</td>\n",
       "      <td>2722</td>\n",
       "    </tr>\n",
       "    <tr>\n",
       "      <th>4</th>\n",
       "      <td>274</td>\n",
       "      <td>49</td>\n",
       "      <td>1245</td>\n",
       "      <td>4534</td>\n",
       "    </tr>\n",
       "    <tr>\n",
       "      <th>...</th>\n",
       "      <td>...</td>\n",
       "      <td>...</td>\n",
       "      <td>...</td>\n",
       "      <td>...</td>\n",
       "    </tr>\n",
       "    <tr>\n",
       "      <th>995</th>\n",
       "      <td>866</td>\n",
       "      <td>21</td>\n",
       "      <td>3529</td>\n",
       "      <td>12458</td>\n",
       "    </tr>\n",
       "    <tr>\n",
       "      <th>996</th>\n",
       "      <td>286</td>\n",
       "      <td>14</td>\n",
       "      <td>1188</td>\n",
       "      <td>4247</td>\n",
       "    </tr>\n",
       "    <tr>\n",
       "      <th>997</th>\n",
       "      <td>427</td>\n",
       "      <td>24</td>\n",
       "      <td>1782</td>\n",
       "      <td>6351</td>\n",
       "    </tr>\n",
       "    <tr>\n",
       "      <th>998</th>\n",
       "      <td>643</td>\n",
       "      <td>2</td>\n",
       "      <td>2580</td>\n",
       "      <td>9089</td>\n",
       "    </tr>\n",
       "    <tr>\n",
       "      <th>999</th>\n",
       "      <td>723</td>\n",
       "      <td>23</td>\n",
       "      <td>2963</td>\n",
       "      <td>10482</td>\n",
       "    </tr>\n",
       "  </tbody>\n",
       "</table>\n",
       "<p>1000 rows × 4 columns</p>\n",
       "</div>"
      ],
      "text/plain": [
       "     length  width  new_var      y\n",
       "0       343     31     1467   5266\n",
       "1      1071     10     4316  15185\n",
       "2       197     19      847   3066\n",
       "3       178     13      753   2722\n",
       "4       274     49     1245   4534\n",
       "..      ...    ...      ...    ...\n",
       "995     866     21     3529  12458\n",
       "996     286     14     1188   4247\n",
       "997     427     24     1782   6351\n",
       "998     643      2     2580   9089\n",
       "999     723     23     2963  10482\n",
       "\n",
       "[1000 rows x 4 columns]"
      ]
     },
     "execution_count": 8,
     "metadata": {},
     "output_type": "execute_result"
    }
   ],
   "source": [
    "n_samples = 1000\n",
    "\n",
    "length = np.random.choice(1000, n_samples) + 100\n",
    "width = np.random.choice(50, n_samples)\n",
    "\n",
    "new_var = 4*length + 3*width + 2\n",
    "\n",
    "y = 2*length + 4*width + 3*new_var + 55\n",
    "\n",
    "data = pd.DataFrame({'length': length,\n",
    "                    'width': width,\n",
    "                     'new_var': new_var,\n",
    "                    'y': y})\n",
    "\n",
    "data"
   ]
  },
  {
   "cell_type": "markdown",
   "metadata": {},
   "source": [
    "Занулим 100 примеров переменной new_var"
   ]
  },
  {
   "cell_type": "code",
   "execution_count": 9,
   "metadata": {},
   "outputs": [
    {
     "name": "stderr",
     "output_type": "stream",
     "text": [
      "<ipython-input-9-74bc554d3204>:4: SettingWithCopyWarning: \n",
      "A value is trying to be set on a copy of a slice from a DataFrame.\n",
      "Try using .loc[row_indexer,col_indexer] = value instead\n",
      "\n",
      "See the caveats in the documentation: https://pandas.pydata.org/pandas-docs/stable/user_guide/indexing.html#returning-a-view-versus-a-copy\n",
      "  test['new_var'] = 0\n"
     ]
    },
    {
     "data": {
      "text/html": [
       "<div>\n",
       "<style scoped>\n",
       "    .dataframe tbody tr th:only-of-type {\n",
       "        vertical-align: middle;\n",
       "    }\n",
       "\n",
       "    .dataframe tbody tr th {\n",
       "        vertical-align: top;\n",
       "    }\n",
       "\n",
       "    .dataframe thead th {\n",
       "        text-align: right;\n",
       "    }\n",
       "</style>\n",
       "<table border=\"1\" class=\"dataframe\">\n",
       "  <thead>\n",
       "    <tr style=\"text-align: right;\">\n",
       "      <th></th>\n",
       "      <th>length</th>\n",
       "      <th>width</th>\n",
       "      <th>new_var</th>\n",
       "      <th>y</th>\n",
       "    </tr>\n",
       "  </thead>\n",
       "  <tbody>\n",
       "    <tr>\n",
       "      <th>900</th>\n",
       "      <td>821</td>\n",
       "      <td>35</td>\n",
       "      <td>0</td>\n",
       "      <td>12010</td>\n",
       "    </tr>\n",
       "    <tr>\n",
       "      <th>901</th>\n",
       "      <td>400</td>\n",
       "      <td>40</td>\n",
       "      <td>0</td>\n",
       "      <td>6181</td>\n",
       "    </tr>\n",
       "    <tr>\n",
       "      <th>902</th>\n",
       "      <td>441</td>\n",
       "      <td>21</td>\n",
       "      <td>0</td>\n",
       "      <td>6508</td>\n",
       "    </tr>\n",
       "    <tr>\n",
       "      <th>903</th>\n",
       "      <td>665</td>\n",
       "      <td>0</td>\n",
       "      <td>0</td>\n",
       "      <td>9371</td>\n",
       "    </tr>\n",
       "    <tr>\n",
       "      <th>904</th>\n",
       "      <td>945</td>\n",
       "      <td>34</td>\n",
       "      <td>0</td>\n",
       "      <td>13733</td>\n",
       "    </tr>\n",
       "  </tbody>\n",
       "</table>\n",
       "</div>"
      ],
      "text/plain": [
       "     length  width  new_var      y\n",
       "900     821     35        0  12010\n",
       "901     400     40        0   6181\n",
       "902     441     21        0   6508\n",
       "903     665      0        0   9371\n",
       "904     945     34        0  13733"
      ]
     },
     "execution_count": 9,
     "metadata": {},
     "output_type": "execute_result"
    }
   ],
   "source": [
    "train = data.iloc[:900, :]\n",
    "test  = data.iloc[900:, :]\n",
    "y_test = test['new_var']\n",
    "test['new_var'] = 0\n",
    "\n",
    "test.head()"
   ]
  },
  {
   "cell_type": "markdown",
   "metadata": {},
   "source": [
    "Обучим модель предсказывать переменную new_var и предскажем недостающие примеры"
   ]
  },
  {
   "cell_type": "code",
   "execution_count": 10,
   "metadata": {},
   "outputs": [
    {
     "name": "stdout",
     "output_type": "stream",
     "text": [
      "Coef:  [4. 3.]\n",
      "Intercept:  2.0000000000009095\n",
      "Loss train:  2.088056615715455e-25\n",
      "Loss test:  2.2117387862990135e-25\n"
     ]
    }
   ],
   "source": [
    "var_model = LinearRegression()\n",
    "\n",
    "var_model.fit(train[['length', 'width']], train['new_var'])\n",
    "\n",
    "print('Coef: ', var_model.coef_)\n",
    "print('Intercept: ', var_model.intercept_)\n",
    "print('Loss train: ', mean_squared_error(train['new_var'], var_model.predict(train[['length', 'width']])))\n",
    "print('Loss test: ', mean_squared_error(y_test, var_model.predict(test[['length', 'width']])))"
   ]
  },
  {
   "cell_type": "markdown",
   "metadata": {},
   "source": [
    "Модель хорошо обучилась"
   ]
  },
  {
   "cell_type": "markdown",
   "metadata": {},
   "source": [
    "Предскажем и вставим пропущенные значения"
   ]
  },
  {
   "cell_type": "code",
   "execution_count": 11,
   "metadata": {},
   "outputs": [
    {
     "name": "stderr",
     "output_type": "stream",
     "text": [
      "<ipython-input-11-fadbb69dae65>:1: SettingWithCopyWarning: \n",
      "A value is trying to be set on a copy of a slice from a DataFrame.\n",
      "Try using .loc[row_indexer,col_indexer] = value instead\n",
      "\n",
      "See the caveats in the documentation: https://pandas.pydata.org/pandas-docs/stable/user_guide/indexing.html#returning-a-view-versus-a-copy\n",
      "  test['new_var'] = var_model.predict(test[['length', 'width']])\n"
     ]
    },
    {
     "data": {
      "text/html": [
       "<div>\n",
       "<style scoped>\n",
       "    .dataframe tbody tr th:only-of-type {\n",
       "        vertical-align: middle;\n",
       "    }\n",
       "\n",
       "    .dataframe tbody tr th {\n",
       "        vertical-align: top;\n",
       "    }\n",
       "\n",
       "    .dataframe thead th {\n",
       "        text-align: right;\n",
       "    }\n",
       "</style>\n",
       "<table border=\"1\" class=\"dataframe\">\n",
       "  <thead>\n",
       "    <tr style=\"text-align: right;\">\n",
       "      <th></th>\n",
       "      <th>length</th>\n",
       "      <th>width</th>\n",
       "      <th>new_var</th>\n",
       "      <th>y</th>\n",
       "    </tr>\n",
       "  </thead>\n",
       "  <tbody>\n",
       "    <tr>\n",
       "      <th>0</th>\n",
       "      <td>343</td>\n",
       "      <td>31</td>\n",
       "      <td>1467.0</td>\n",
       "      <td>5266</td>\n",
       "    </tr>\n",
       "    <tr>\n",
       "      <th>1</th>\n",
       "      <td>1071</td>\n",
       "      <td>10</td>\n",
       "      <td>4316.0</td>\n",
       "      <td>15185</td>\n",
       "    </tr>\n",
       "    <tr>\n",
       "      <th>2</th>\n",
       "      <td>197</td>\n",
       "      <td>19</td>\n",
       "      <td>847.0</td>\n",
       "      <td>3066</td>\n",
       "    </tr>\n",
       "    <tr>\n",
       "      <th>3</th>\n",
       "      <td>178</td>\n",
       "      <td>13</td>\n",
       "      <td>753.0</td>\n",
       "      <td>2722</td>\n",
       "    </tr>\n",
       "    <tr>\n",
       "      <th>4</th>\n",
       "      <td>274</td>\n",
       "      <td>49</td>\n",
       "      <td>1245.0</td>\n",
       "      <td>4534</td>\n",
       "    </tr>\n",
       "    <tr>\n",
       "      <th>...</th>\n",
       "      <td>...</td>\n",
       "      <td>...</td>\n",
       "      <td>...</td>\n",
       "      <td>...</td>\n",
       "    </tr>\n",
       "    <tr>\n",
       "      <th>995</th>\n",
       "      <td>866</td>\n",
       "      <td>21</td>\n",
       "      <td>3529.0</td>\n",
       "      <td>12458</td>\n",
       "    </tr>\n",
       "    <tr>\n",
       "      <th>996</th>\n",
       "      <td>286</td>\n",
       "      <td>14</td>\n",
       "      <td>1188.0</td>\n",
       "      <td>4247</td>\n",
       "    </tr>\n",
       "    <tr>\n",
       "      <th>997</th>\n",
       "      <td>427</td>\n",
       "      <td>24</td>\n",
       "      <td>1782.0</td>\n",
       "      <td>6351</td>\n",
       "    </tr>\n",
       "    <tr>\n",
       "      <th>998</th>\n",
       "      <td>643</td>\n",
       "      <td>2</td>\n",
       "      <td>2580.0</td>\n",
       "      <td>9089</td>\n",
       "    </tr>\n",
       "    <tr>\n",
       "      <th>999</th>\n",
       "      <td>723</td>\n",
       "      <td>23</td>\n",
       "      <td>2963.0</td>\n",
       "      <td>10482</td>\n",
       "    </tr>\n",
       "  </tbody>\n",
       "</table>\n",
       "<p>1000 rows × 4 columns</p>\n",
       "</div>"
      ],
      "text/plain": [
       "     length  width  new_var      y\n",
       "0       343     31   1467.0   5266\n",
       "1      1071     10   4316.0  15185\n",
       "2       197     19    847.0   3066\n",
       "3       178     13    753.0   2722\n",
       "4       274     49   1245.0   4534\n",
       "..      ...    ...      ...    ...\n",
       "995     866     21   3529.0  12458\n",
       "996     286     14   1188.0   4247\n",
       "997     427     24   1782.0   6351\n",
       "998     643      2   2580.0   9089\n",
       "999     723     23   2963.0  10482\n",
       "\n",
       "[1000 rows x 4 columns]"
      ]
     },
     "execution_count": 11,
     "metadata": {},
     "output_type": "execute_result"
    }
   ],
   "source": [
    "test['new_var'] = var_model.predict(test[['length', 'width']])\n",
    "\n",
    "new_data = pd.concat([train, test])\n",
    "new_data"
   ]
  },
  {
   "cell_type": "markdown",
   "metadata": {},
   "source": [
    "Обучим 2 модели: одну на исходных данных, вторую на предсказанных"
   ]
  },
  {
   "cell_type": "code",
   "execution_count": 12,
   "metadata": {},
   "outputs": [
    {
     "name": "stdout",
     "output_type": "stream",
     "text": [
      "Coef original:  [-0.61538462  2.03846154  3.65384615]\n",
      "Coef new:  [-0.61538462  2.03846154  3.65384615]\n",
      "Intercept original:  53.69230769231035\n",
      "Intercept new:  53.69230769231035\n",
      "Loss original:  4.113052198343361e-24\n",
      "Loss new:  2.835006453160649e-24\n"
     ]
    }
   ],
   "source": [
    "model_orig = LinearRegression()\n",
    "\n",
    "X_orig = data.drop(columns=['y'])\n",
    "y_orig = data.y\n",
    "\n",
    "model_orig.fit(X_orig, y_orig)\n",
    "\n",
    "model_new = LinearRegression()\n",
    "\n",
    "X_new = new_data.drop(columns=['y'])\n",
    "y_new = new_data.y\n",
    "\n",
    "model_new.fit(X_new, y_new)\n",
    "\n",
    "print('Coef original: ', model_orig.coef_)\n",
    "print('Coef new: ', model_new.coef_)\n",
    "print('Intercept original: ', model_orig.intercept_)\n",
    "print('Intercept new: ', model_new.intercept_)\n",
    "print('Loss original: ', mean_squared_error(y_orig, model_orig.predict(X_orig)))\n",
    "print('Loss new: ', mean_squared_error(y_new, model_new.predict(X_new)))"
   ]
  },
  {
   "cell_type": "markdown",
   "metadata": {},
   "source": [
    "## Вывод\n",
    "\n",
    "Как видим, модели обучились примерно одинаково, но коэффициенты нашлись неправильно, однако функция потерь очень низкая, возможно это связано с тем, что переменную new_var мы создавали через переменные length и width"
   ]
  }
 ],
 "metadata": {
  "kernelspec": {
   "display_name": "Python 3",
   "language": "python",
   "name": "python3"
  },
  "language_info": {
   "codemirror_mode": {
    "name": "ipython",
    "version": 3
   },
   "file_extension": ".py",
   "mimetype": "text/x-python",
   "name": "python",
   "nbconvert_exporter": "python",
   "pygments_lexer": "ipython3",
   "version": "3.8.8"
  }
 },
 "nbformat": 4,
 "nbformat_minor": 4
}
